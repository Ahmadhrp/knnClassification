{
 "cells": [
  {
   "cell_type": "code",
   "execution_count": 1,
   "metadata": {},
   "outputs": [
    {
     "name": "stderr",
     "output_type": "stream",
     "text": [
      "/Users/Abe/anaconda2/lib/python2.7/site-packages/sklearn/cross_validation.py:41: DeprecationWarning: This module was deprecated in version 0.18 in favor of the model_selection module into which all the refactored classes and functions are moved. Also note that the interface of the new CV iterators are different from that of this module. This module will be removed in 0.20.\n",
      "  \"This module will be removed in 0.20.\", DeprecationWarning)\n"
     ]
    }
   ],
   "source": [
    "import pandas as pd\n",
    "import numpy as np\n",
    "from sklearn import cross_validation,preprocessing,neighbors\n",
    "import matplotlib.pyplot as plt\n",
    "import seaborn as sns"
   ]
  },
  {
   "cell_type": "code",
   "execution_count": 9,
   "metadata": {},
   "outputs": [],
   "source": [
    "df = pd.read_csv('breast-cancer-wisconsin.data.txt')\n",
    "df.replace('?', -99999, inplace=True)\n",
    "df.drop(['id'], 1, inplace=True)"
   ]
  },
  {
   "cell_type": "code",
   "execution_count": 31,
   "metadata": {},
   "outputs": [],
   "source": [
    "x = np.array(df.drop(['class'],1))\n",
    "y = np.array(df['class'])\n",
    "\n",
    "x_train,x_test,y_train,y_test = cross_validation.train_test_split(x,y,test_size=0.2)"
   ]
  },
  {
   "cell_type": "code",
   "execution_count": 32,
   "metadata": {},
   "outputs": [],
   "source": [
    "knn = neighbors.KNeighborsClassifier()"
   ]
  },
  {
   "cell_type": "code",
   "execution_count": 33,
   "metadata": {},
   "outputs": [
    {
     "data": {
      "text/plain": [
       "KNeighborsClassifier(algorithm='auto', leaf_size=30, metric='minkowski',\n",
       "           metric_params=None, n_jobs=1, n_neighbors=5, p=2,\n",
       "           weights='uniform')"
      ]
     },
     "execution_count": 33,
     "metadata": {},
     "output_type": "execute_result"
    }
   ],
   "source": [
    "knn.fit(x_train,y_train)"
   ]
  },
  {
   "cell_type": "code",
   "execution_count": 34,
   "metadata": {},
   "outputs": [
    {
     "name": "stdout",
     "output_type": "stream",
     "text": [
      "[4 2 2 2 4 2 2 4 2 2 4 2 2 4 2 4 2 2 4 2 2 4 4 2 2 2 4 2 2 4 4 2 4 2 4 2 4\n",
      " 4 4 4 4 2 4 2 2 2 4 2 4 2 2 2 4 2 2 2 2 2 4 4 2 4 2 2 2 4 4 2 2 4 2 2 2 4\n",
      " 2 2 2 2 2 2 2 4 2 2 4 2 4 2 4 2 2 2 2 2 2 2 2 4 2 2 4 2 4 4 4 4 2 2 2 4 2\n",
      " 2 4 2 2 2 2 2 4 2 4 4 2 4 2 4 2 2 2 2 4 2 4 2 2 2 4 2 4 2]\n"
     ]
    }
   ],
   "source": [
    "pred = knn.predict(x_test)\n",
    "print(pred)"
   ]
  },
  {
   "cell_type": "code",
   "execution_count": 35,
   "metadata": {},
   "outputs": [
    {
     "name": "stdout",
     "output_type": "stream",
     "text": [
      "[4 2 2 2 4 2 2 4 2 2 4 2 2 4 2 4 2 2 4 2 2 4 4 2 2 2 4 2 2 4 4 2 4 2 4 2 4\n",
      " 2 4 4 4 2 4 2 2 2 4 2 4 2 2 2 4 2 2 2 2 2 4 4 2 4 2 2 2 4 4 2 2 4 4 2 2 4\n",
      " 2 2 2 2 2 2 2 4 4 2 4 2 4 2 4 2 2 2 2 2 4 2 2 4 2 2 4 2 4 4 4 4 2 2 2 4 2\n",
      " 2 4 2 2 2 2 2 4 2 4 4 2 4 2 4 2 2 2 2 4 2 4 2 2 2 4 2 4 2]\n"
     ]
    }
   ],
   "source": [
    "print(y_test)"
   ]
  },
  {
   "cell_type": "code",
   "execution_count": 36,
   "metadata": {},
   "outputs": [
    {
     "name": "stdout",
     "output_type": "stream",
     "text": [
      "Confidence level K-NN algorithm\n",
      "0.9714285714285714\n"
     ]
    }
   ],
   "source": [
    "conf_level = knn.score(x_test,y_test)\n",
    "print(\"Confidence level K-NN algorithm\")\n",
    "print(conf_level)"
   ]
  },
  {
   "cell_type": "code",
   "execution_count": null,
   "metadata": {},
   "outputs": [],
   "source": []
  }
 ],
 "metadata": {
  "kernelspec": {
   "display_name": "Python 2",
   "language": "python",
   "name": "python2"
  },
  "language_info": {
   "codemirror_mode": {
    "name": "ipython",
    "version": 2
   },
   "file_extension": ".py",
   "mimetype": "text/x-python",
   "name": "python",
   "nbconvert_exporter": "python",
   "pygments_lexer": "ipython2",
   "version": "2.7.15"
  }
 },
 "nbformat": 4,
 "nbformat_minor": 2
}
